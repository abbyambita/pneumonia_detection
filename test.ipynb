{
  "nbformat": 4,
  "nbformat_minor": 0,
  "metadata": {
    "colab": {
      "name": "test.ipynb",
      "provenance": [],
      "collapsed_sections": [],
      "include_colab_link": true
    },
    "kernelspec": {
      "name": "python3",
      "display_name": "Python 3"
    },
    "accelerator": "GPU"
  },
  "cells": [
    {
      "cell_type": "markdown",
      "metadata": {
        "id": "view-in-github",
        "colab_type": "text"
      },
      "source": [
        "<a href=\"https://colab.research.google.com/github/abbyambita/pneumonia_detection/blob/master/test.ipynb\" target=\"_parent\"><img src=\"https://colab.research.google.com/assets/colab-badge.svg\" alt=\"Open In Colab\"/></a>"
      ]
    },
    {
      "cell_type": "code",
      "metadata": {
        "id": "gLADGVAi45OM",
        "colab_type": "code",
        "outputId": "830b3610-4ccd-474b-d8be-a3f06041452d",
        "colab": {
          "base_uri": "https://localhost:8080/",
          "height": 54
        }
      },
      "source": [
        "from google.colab import drive\n",
        "drive.mount('/content/drive')"
      ],
      "execution_count": 50,
      "outputs": [
        {
          "output_type": "stream",
          "text": [
            "Drive already mounted at /content/drive; to attempt to forcibly remount, call drive.mount(\"/content/drive\", force_remount=True).\n"
          ],
          "name": "stdout"
        }
      ]
    },
    {
      "cell_type": "code",
      "metadata": {
        "id": "29tadhMohBw6",
        "colab_type": "code",
        "outputId": "4b3e1c66-0be0-45d4-8db8-9defc9208e44",
        "colab": {
          "base_uri": "https://localhost:8080/",
          "height": 67
        }
      },
      "source": [
        "!ls  '/content/drive/My Drive/cs239/'"
      ],
      "execution_count": 51,
      "outputs": [
        {
          "output_type": "stream",
          "text": [
            "checkpoint.pth\t\t\t  test.ipynb\t two_classes_downsampled\n",
            "densenet121.ipynb\t\t  three_classes  two_classes_upsampled\n",
            "resnet-1024-256-2-91accuracy.pth  two_classes\t Untitled0.ipynb\n"
          ],
          "name": "stdout"
        }
      ]
    },
    {
      "cell_type": "code",
      "metadata": {
        "id": "J5ndrm8-4s4h",
        "colab_type": "code",
        "colab": {}
      },
      "source": [
        "from __future__ import print_function, division\n",
        "\n",
        "import pandas as pd\n",
        "import numpy as np\n",
        "import matplotlib.pyplot as plt\n",
        "import seaborn as sns\n",
        "import cv2\n",
        "import glob\n",
        "import matplotlib.pyplot as plt\n",
        "import torch\n",
        "import time\n",
        "import numpy as np\n",
        "from torch import nn, optim\n",
        "import torch.nn.functional as F\n",
        "from torchvision import datasets, transforms, models\n",
        "import torchvision\n",
        "from collections import OrderedDict\n",
        "from torch.autograd import Variable\n",
        "from PIL import Image\n",
        "import PIL\n",
        "from torch.optim import lr_scheduler\n",
        "import copy\n",
        "import json\n",
        "import os\n",
        "from os.path import exists\n",
        "\n",
        "plt.ion()"
      ],
      "execution_count": 0,
      "outputs": []
    },
    {
      "cell_type": "code",
      "metadata": {
        "id": "50RhPB_txYPo",
        "colab_type": "code",
        "colab": {}
      },
      "source": [
        "import itertools\n",
        "\n",
        "def plot_confusion_matrix(cm, classes,\n",
        "                          normalize=False,\n",
        "                          title='Confusion matrix',\n",
        "                          cmap=plt.cm.Blues):\n",
        "    \"\"\"\n",
        "    This function prints and plots the confusion matrix.\n",
        "    Normalization can be applied by setting `normalize=True`.\n",
        "    \"\"\"\n",
        "    if normalize:\n",
        "        cm = cm.astype('float') / cm.sum(axis=1)[:, np.newaxis]\n",
        "        print(\"Normalized confusion matrix\")\n",
        "    else:\n",
        "        print('Confusion matrix, without normalization')\n",
        "\n",
        "    print(cm)\n",
        "\n",
        "    plt.imshow(cm, interpolation='nearest', cmap=cmap)\n",
        "    plt.title(title)\n",
        "    plt.colorbar()\n",
        "    tick_marks = np.arange(len(classes))\n",
        "    plt.xticks(tick_marks, classes, rotation=45)\n",
        "    plt.yticks(tick_marks, classes)\n",
        "\n",
        "    fmt = '.2f' if normalize else 'd'\n",
        "    thresh = cm.max() / 2.\n",
        "    for i, j in itertools.product(range(cm.shape[0]), range(cm.shape[1])):\n",
        "        plt.text(j, i, format(cm[i, j], fmt),\n",
        "                 horizontalalignment=\"center\",\n",
        "                 color=\"white\" if cm[i, j] > thresh else \"black\")\n",
        "\n",
        "    plt.ylabel('True label')\n",
        "    plt.xlabel('Predicted label')\n",
        "    plt.tight_layout()\n"
      ],
      "execution_count": 0,
      "outputs": []
    },
    {
      "cell_type": "code",
      "metadata": {
        "id": "9bcgzh-as1-r",
        "colab_type": "code",
        "outputId": "3ed55f74-de66-4841-bb9f-148e3be1a1bf",
        "colab": {
          "base_uri": "https://localhost:8080/",
          "height": 50
        }
      },
      "source": [
        "device = torch.device(\"cuda:0\" if torch.cuda.is_available() else \"cpu\")\n",
        "print(device)\n",
        "\n",
        "nThreads = 4\n",
        "batch_size = 32\n",
        "use_gpu = torch.cuda.is_available()\n",
        "\n",
        "# check if CUDA is available\n",
        "train_on_gpu = torch.cuda.is_available()\n",
        "\n",
        "if not train_on_gpu:\n",
        "    print('CUDA is not available.  Training on CPU ...')\n",
        "else:\n",
        "    print('CUDA is available!  Training on GPU ...')"
      ],
      "execution_count": 54,
      "outputs": [
        {
          "output_type": "stream",
          "text": [
            "cuda:0\n",
            "CUDA is available!  Training on GPU ...\n"
          ],
          "name": "stdout"
        }
      ]
    },
    {
      "cell_type": "code",
      "metadata": {
        "id": "LYNPnp08KWQm",
        "colab_type": "code",
        "colab": {}
      },
      "source": [
        "def make_weights_for_balanced_classes(images, nclasses):                        \n",
        "    count = [0] * nclasses                                                      \n",
        "    for item in images:                                                         \n",
        "        count[item[1]] += 1                                                     \n",
        "    weight_per_class = [0.] * nclasses                                      \n",
        "    N = float(sum(count))                                                   \n",
        "    for i in range(nclasses):                                                   \n",
        "        weight_per_class[i] = N/float(count[i])                                 \n",
        "    weight = [0] * len(images)                                              \n",
        "    for idx, val in enumerate(images):                                          \n",
        "        weight[idx] = weight_per_class[val[1]]                                  \n",
        "    return weight    "
      ],
      "execution_count": 0,
      "outputs": []
    },
    {
      "cell_type": "code",
      "metadata": {
        "id": "aQ3N9paZ4zdS",
        "colab_type": "code",
        "colab": {}
      },
      "source": [
        "# Data augmentation and normalization for training\n",
        "# Just normalization for validation\n",
        "data_transforms = {\n",
        "    'train': transforms.Compose([\n",
        "                                 transforms.Resize((224, 224)),   \n",
        "                                 transforms.CenterCrop(224),\n",
        "                                 transforms.RandomHorizontalFlip(),\n",
        "                                 transforms.ToTensor(),\n",
        "                                 transforms.Normalize((0.485, 0.456, 0.406), (0.229, 0.224, 0.225))\n",
        "    ]),\n",
        "    'val': transforms.Compose([\n",
        "                                 transforms.Resize((224, 224)),                                       \n",
        "                                 transforms.ToTensor(),\n",
        "                                 transforms.Normalize((0.485, 0.456, 0.406), (0.229, 0.224, 0.225))\n",
        "    ]),\n",
        "    'test': transforms.Compose([\n",
        "                                 transforms.Resize((224, 224)),                                       \n",
        "                                 transforms.ToTensor(),\n",
        "                                 transforms.Normalize((0.485, 0.456, 0.406), (0.229, 0.224, 0.225))\n",
        "    ]),\n",
        "}\n",
        "\n",
        "data_dir = '/content/drive/My Drive/cs239/two_classes/'\n",
        "image_datasets = {x: datasets.ImageFolder(os.path.join(data_dir, x),\n",
        "                                          data_transforms[x])\n",
        "                  for x in ['train', 'val', 'test']}\n",
        "\n",
        "weights = make_weights_for_balanced_classes(image_datasets['train'].imgs, len(image_datasets['train'].classes))                                                                \n",
        "weights = torch.DoubleTensor(weights)  \n",
        "sampler = torch.utils.data.sampler.WeightedRandomSampler(weights, len(weights))                     \n",
        "\n",
        "\n",
        "dataloaders = {x: torch.utils.data.DataLoader(image_datasets[x], batch_size=4,\n",
        "                                             shuffle=True, num_workers=4)\n",
        "              for x in [ 'val', 'test']}\n",
        "\n",
        "dataloaders.update({'train' : torch.utils.data.DataLoader(image_datasets['train'], batch_size=4,\n",
        "                                                           sampler = sampler, num_workers=4, pin_memory=True)} )\n",
        "\n",
        "dataset_sizes = {x: len(image_datasets[x]) for x in ['train', 'val', 'test']}\n",
        "class_names = image_datasets['train'].classes"
      ],
      "execution_count": 0,
      "outputs": []
    },
    {
      "cell_type": "markdown",
      "metadata": {
        "id": "1JWsIhgaKTLu",
        "colab_type": "text"
      },
      "source": [
        ""
      ]
    },
    {
      "cell_type": "markdown",
      "metadata": {
        "id": "hYWCBzmBXD-t",
        "colab_type": "text"
      },
      "source": [
        ""
      ]
    },
    {
      "cell_type": "code",
      "metadata": {
        "id": "-3xSsKl6qcRD",
        "colab_type": "code",
        "outputId": "1c47bdec-001c-42e9-86db-9111d2cb58c8",
        "colab": {
          "base_uri": "https://localhost:8080/",
          "height": 148
        }
      },
      "source": [
        "def imshow(inp, title=None):\n",
        "    \"\"\"Imshow for Tensor.\"\"\"\n",
        "    inp = inp.numpy().transpose((1, 2, 0))\n",
        "    mean = np.array([0.485, 0.456, 0.406])\n",
        "    std = np.array([0.229, 0.224, 0.225])\n",
        "    inp = std * inp + mean\n",
        "    inp = np.clip(inp, 0, 1)\n",
        "    plt.imshow(inp)\n",
        "    if title is not None:\n",
        "        plt.title(title)\n",
        "    plt.pause(0.001)  # pause a bit so that plots are updated\n",
        "\n",
        "\n",
        "# Get a batch of training data\n",
        "inputs, classes = next(iter(dataloaders['train']))\n",
        "\n",
        "# Make a grid from batch\n",
        "out = torchvision.utils.make_grid(inputs)\n",
        "\n",
        "imshow(out, title=[class_names[x] for x in classes])"
      ],
      "execution_count": 69,
      "outputs": [
        {
          "output_type": "display_data",
          "data": {
            "image/png": "[encoded data removed]",
            "text/plain": [
              "<Figure size 432x288 with 1 Axes>"
            ]
          },
          "metadata": {
            "tags": []
          }
        }
      ]
    },
    {
      "cell_type": "code",
      "metadata": {
        "id": "WF0hFMttrs0J",
        "colab_type": "code",
        "colab": {}
      },
      "source": [
        "# Build and train your network\n",
        "# 1. Load resnet-152 pre-trained network\n",
        "model = models.resnet152(pretrained=True)\n",
        "# Freeze parameters so we don't backprop through them\n",
        "for param in model.parameters():\n",
        "    param.requires_grad = False\n"
      ],
      "execution_count": 0,
      "outputs": []
    },
    {
      "cell_type": "markdown",
      "metadata": {
        "id": "cZnqhcOEx8iJ",
        "colab_type": "text"
      },
      "source": [
        ""
      ]
    },
    {
      "cell_type": "code",
      "metadata": {
        "id": "03mrKU2YtidB",
        "colab_type": "code",
        "colab": {}
      },
      "source": [
        "# 2. Define a new, untrained feed-forward network as a classifier, using ReLU activations and dropout\n",
        "\n",
        "# Our input_size matches the in_features of pretrained model\n",
        "\n",
        "\n",
        "from collections import OrderedDict\n",
        "\n",
        "\n",
        "# Creating the classifier ordered dictionary first\n",
        "\n",
        "#original dropout parameter: 0.2\n",
        "classifier = nn.Sequential(OrderedDict([\n",
        "                          ('fc1', nn.Linear(2048, 1024)),\n",
        "                          ('dp1', nn.Dropout(0.2)),\n",
        "                          ('relu', nn.ReLU()),\n",
        "                          ('fc2', nn.Linear(1024, 256)),\n",
        "                          ('relu2', nn.ReLU()),\n",
        "                          ('fc3', nn.Linear(256, 2)),\n",
        "                          ('output', nn.LogSoftmax(dim=1))\n",
        "                          ]))\n",
        "\n",
        "#classifier = nn.Sequential(OrderedDict([\n",
        "#                          ('fc1', nn.Linear(2048, 1024)),\n",
        "#                          ('dp1', nn.Dropout(0.3)),\n",
        "#                          ('relu', nn.ReLU()),\n",
        "#                          ('fc2', nn.Linear(1024, 256)),\n",
        "#                          ('relu2', nn.ReLU()),\n",
        "#                          ('fc3', nn.Linear(256, 2)),\n",
        "#                          ('output', nn.LogSoftmax(dim=1))\n",
        "#                          ]))\n",
        "\n",
        "#classifier = nn.Sequential(OrderedDict([\n",
        "#                                        ('fcl1', nn.Linear(1024,256)),\n",
        "#                                        ('dp1', nn.Dropout(0.3)),\n",
        "#                                        ('r1', nn.ReLU()),\n",
        "#                                        ('fcl2', nn.Linear(256,32)),\n",
        "#                                        ('dp2', nn.Dropout(0.3)),\n",
        "#                                        ('r2', nn.ReLU()),\n",
        "#                                        ('fcl3', nn.Linear(32,2)),\n",
        "#                                        ('out', nn.LogSoftmax(dim=1))\n",
        "#                                        ]))\n",
        "\n",
        "\n",
        "# Replacing the pretrained model classifier with our classifier\n",
        "model.fc = classifier"
      ],
      "execution_count": 0,
      "outputs": []
    },
    {
      "cell_type": "code",
      "metadata": {
        "id": "fNkKjhEltr0j",
        "colab_type": "code",
        "colab": {}
      },
      "source": [
        "train_losses = []\n",
        "test_losses = []\n",
        "\n",
        "#remove scheduler\n",
        "\n",
        "#def train_model(model, criterion, optimizer, scheduler, num_epochs=10):\n",
        "def train_model(model, criterion, optimizer, num_epochs=3):\n",
        "\n",
        "    since = time.time()\n",
        "\n",
        "    best_model_wts = copy.deepcopy(model.state_dict())\n",
        "    best_acc = 0.0\n",
        "\n",
        "    for epoch in range(1, num_epochs+1):\n",
        "        print('Epoch {}/{}'.format(epoch, num_epochs))\n",
        "        print('-' * 10)\n",
        "\n",
        "        # Each epoch has a training and validation phase\n",
        "        for phase in ['train', 'test']:\n",
        "            if phase == 'train':\n",
        "                #scheduler.step()\n",
        "                model.train()  # Set model to training mode\n",
        "            else:\n",
        "                model.eval()   # Set model to evaluate mode\n",
        "\n",
        "            running_loss = 0.0\n",
        "            running_corrects = 0\n",
        "\n",
        "            # Iterate over data.\n",
        "            for inputs, labels in dataloaders[phase]:\n",
        "                inputs, labels = inputs.to(device), labels.to(device)\n",
        "\n",
        "                # zero the parameter gradients\n",
        "                optimizer.zero_grad()\n",
        "\n",
        "                # forward\n",
        "                # track history if only in train\n",
        "                with torch.set_grad_enabled(phase == 'train'):\n",
        "                    outputs = model(inputs)\n",
        "                    loss = criterion(outputs, labels)\n",
        "                    _, preds = torch.max(outputs, 1)\n",
        "\n",
        "                    # backward + optimize only if in training phase\n",
        "                    if phase == 'train':\n",
        "                        loss.backward()\n",
        "                        optimizer.step()\n",
        "\n",
        "                # statistics\n",
        "                running_loss += loss.item() * inputs.size(0)\n",
        "                running_corrects += torch.sum(preds == labels.data)\n",
        "\n",
        "            epoch_loss = running_loss / dataset_sizes[phase]\n",
        "            epoch_acc = running_corrects.double() / dataset_sizes[phase]\n",
        "\n",
        "            print('{} Loss: {:.4f} Acc: {:.4f}'.format(\n",
        "                phase, epoch_loss, epoch_acc))\n",
        "\n",
        "            if phase == 'train':\n",
        "              train_losses.append(epoch_loss)\n",
        "            else:\n",
        "              test_losses.append(epoch_loss)\n",
        "\n",
        "            # deep copy the model\n",
        "            if phase == 'test' and epoch_acc > best_acc:\n",
        "                best_acc = epoch_acc\n",
        "                best_model_wts = copy.deepcopy(model.state_dict())\n",
        "\n",
        "        print()\n",
        "\n",
        "    time_elapsed = time.time() - since\n",
        "    print('Training complete in {:.0f}m {:.0f}s'.format(\n",
        "        time_elapsed // 60, time_elapsed % 60))\n",
        "    print('Best valid accuracy: {:4f}'.format(best_acc))\n",
        "\n",
        "    # load best model weights\n",
        "    model.load_state_dict(best_model_wts)\n",
        "    return model"
      ],
      "execution_count": 0,
      "outputs": []
    },
    {
      "cell_type": "code",
      "metadata": {
        "id": "HU0sVkNGt5-V",
        "colab_type": "code",
        "outputId": "ae996ddf-7aea-4888-8305-f105bca3f19f",
        "colab": {
          "base_uri": "https://localhost:8080/",
          "height": 319
        }
      },
      "source": [
        "#Train a model with a pre-trained network\n",
        "if use_gpu:\n",
        "    print (\"Using GPU: \"+ str(use_gpu))\n",
        "    model = model.cuda()\n",
        "\n",
        "# NLLLoss because our output is LogSoftmax\n",
        "criterion = nn.NLLLoss()\n",
        "#criterion = nn.CrossEntropyLoss()\n",
        "\n",
        "\n",
        " #Adam optimizer with a learning rate\n",
        "optimizer = optim.Adam(model.fc.parameters(), lr=0.001)\n",
        "#optimizer = optim.SGD(model.fc.parameters(), lr = 0.0001, momentum=0.9)\n",
        "# Decay LR by a factor of 0.1 every 5 epochs\n",
        "\n",
        "#exp_lr_scheduler = lr_scheduler.StepLR(optimizer, step_size=10, gamma=0.1)\n",
        "\n",
        "\n",
        "#model_ft = train_model(model, criterion, optimizer, exp_lr_scheduler, num_epochs=3)\n",
        "\n",
        "model_ft = train_model(model, criterion, optimizer, num_epochs=3)"
      ],
      "execution_count": 73,
      "outputs": [
        {
          "output_type": "stream",
          "text": [
            "Using GPU: True\n",
            "Epoch 1/3\n",
            "----------\n",
            "train Loss: 0.3880 Acc: 0.8331\n",
            "test Loss: 0.3095 Acc: 0.8878\n",
            "\n",
            "Epoch 2/3\n",
            "----------\n",
            "train Loss: 0.3544 Acc: 0.8509\n",
            "test Loss: 0.3574 Acc: 0.8718\n",
            "\n",
            "Epoch 3/3\n",
            "----------\n",
            "train Loss: 0.3302 Acc: 0.8650\n",
            "test Loss: 0.3159 Acc: 0.8734\n",
            "\n",
            "Training complete in 9m 10s\n",
            "Best valid accuracy: 0.887821\n"
          ],
          "name": "stdout"
        }
      ]
    },
    {
      "cell_type": "code",
      "metadata": {
        "id": "eT7WGK3cuUS6",
        "colab_type": "code",
        "colab": {}
      },
      "source": [
        "from sklearn.metrics import confusion_matrix\n",
        "from sklearn.metrics import accuracy_score \n",
        "from sklearn.metrics import classification_report \n",
        "\n",
        "def evaluate_performance(labels, preds):\n",
        "  label = ['normal', 'pneumonia']\n",
        "  #print(confusion_matrix)\n",
        "  conf_matrix = confusion_matrix(labels, preds)\n",
        "  print(conf_matrix)\n",
        "\n",
        "  # Per-class accuracy\n",
        "  class_accuracy=100*conf_matrix.diagonal()/conf_matrix.sum(1)\n",
        "  print(class_accuracy)\n",
        "\n",
        "  print(\"Accuracy score:\", accuracy_score(labels, preds))\n",
        "  print(classification_report(labels, preds))\n",
        "\n",
        "  plt.figure()\n",
        "  plot_confusion_matrix(conf_matrix, classes=['Normal', 'Pneumonia'],\n",
        "                      title='Confusion matrix')\n",
        "  plt.show()"
      ],
      "execution_count": 0,
      "outputs": []
    },
    {
      "cell_type": "code",
      "metadata": {
        "id": "-OJC9ub5u8IW",
        "colab_type": "code",
        "colab": {}
      },
      "source": [
        "# Do validation on the test set\n",
        "def test(model, dataloaders, device):\n",
        "  model.eval()\n",
        "  accuracy = 0\n",
        "  \n",
        "  model.to(device)\n",
        "  \n",
        "  nb_classes = 2\n",
        "\n",
        "  #confusion_matrix = torch.zeros(nb_classes, nb_classes)\n",
        "  predlist = torch.zeros(0, dtype = torch.long, device = 'cpu')\n",
        "  labellist = torch.zeros(0, dtype = torch.long, device = 'cpu')\n",
        "\n",
        "\n",
        "  for images, labels in dataloaders['test']:\n",
        "    images = Variable(images)\n",
        "    labels = Variable(labels)\n",
        "    images, labels = images.to(device), labels.to(device)\n",
        "      \n",
        "    output = model.forward(images)\n",
        "    ps = torch.exp(output)\n",
        "    equality = (labels.data == ps.max(1)[1])\n",
        "    accuracy += equality.type_as(torch.FloatTensor()).mean()\n",
        "\n",
        "    _, preds = torch.max(output, 1)\n",
        "    # for t, p in zip(labels.view(-1), preds.view(-1)):\n",
        "    #   confusion_matrix[t.long(), p.long()] += 1\n",
        "    predlist=torch.cat([predlist,preds.view(-1).cpu()])\n",
        "    labellist = torch.cat([labellist, labels.view(-1).cpu()])\n",
        "\n",
        "    print(\"Testing Accuracy: {:.3f}\".format(accuracy/len(dataloaders['test'])))\n",
        "\n",
        "  evaluate_performance(labellist.numpy(), predlist.numpy())"
      ],
      "execution_count": 0,
      "outputs": []
    },
    {
      "cell_type": "code",
      "metadata": {
        "id": "HKYuXNKXvIQY",
        "colab_type": "code",
        "outputId": "f4da851c-74aa-4fee-cca5-b5032f450d8f",
        "colab": {
          "base_uri": "https://localhost:8080/",
          "height": 1000
        }
      },
      "source": [
        "test(model, dataloaders, device)"
      ],
      "execution_count": 0,
      "outputs": [
        {
          "output_type": "stream",
          "text": [
            "Testing Accuracy: 0.021\n",
            "Testing Accuracy: 0.043\n",
            "Testing Accuracy: 0.067\n",
            "Testing Accuracy: 0.091\n",
            "Testing Accuracy: 0.115\n",
            "Testing Accuracy: 0.138\n",
            "Testing Accuracy: 0.162\n",
            "Testing Accuracy: 0.181\n",
            "Testing Accuracy: 0.205\n",
            "Testing Accuracy: 0.231\n",
            "Testing Accuracy: 0.253\n",
            "Testing Accuracy: 0.279\n",
            "Testing Accuracy: 0.301\n",
            "Testing Accuracy: 0.325\n",
            "Testing Accuracy: 0.351\n",
            "Testing Accuracy: 0.375\n",
            "Testing Accuracy: 0.397\n",
            "Testing Accuracy: 0.420\n",
            "Testing Accuracy: 0.442\n",
            "Testing Accuracy: 0.465\n",
            "Testing Accuracy: 0.487\n",
            "Testing Accuracy: 0.510\n",
            "Testing Accuracy: 0.530\n",
            "Testing Accuracy: 0.551\n",
            "Testing Accuracy: 0.575\n",
            "Testing Accuracy: 0.598\n",
            "Testing Accuracy: 0.622\n",
            "Testing Accuracy: 0.646\n",
            "Testing Accuracy: 0.667\n",
            "Testing Accuracy: 0.688\n",
            "Testing Accuracy: 0.713\n",
            "Testing Accuracy: 0.739\n",
            "Testing Accuracy: 0.763\n",
            "Testing Accuracy: 0.787\n",
            "Testing Accuracy: 0.809\n",
            "Testing Accuracy: 0.833\n",
            "Testing Accuracy: 0.854\n",
            "Testing Accuracy: 0.877\n",
            "Testing Accuracy: 0.901\n",
            "[[196  38]\n",
            " [ 24 366]]\n",
            "[83.76068376 93.84615385]\n",
            "Accuracy score: 0.9006410256410257\n",
            "              precision    recall  f1-score   support\n",
            "\n",
            "           0       0.89      0.84      0.86       234\n",
            "           1       0.91      0.94      0.92       390\n",
            "\n",
            "    accuracy                           0.90       624\n",
            "   macro avg       0.90      0.89      0.89       624\n",
            "weighted avg       0.90      0.90      0.90       624\n",
            "\n",
            "Confusion matrix, without normalization\n",
            "[[196  38]\n",
            " [ 24 366]]\n"
          ],
          "name": "stdout"
        },
        {
          "output_type": "display_data",
          "data": {
            "image/png": "[encoded data removed]",
            "text/plain": [
              "<Figure size 432x288 with 2 Axes>"
            ]
          },
          "metadata": {
            "tags": []
          }
        }
      ]
    },
    {
      "cell_type": "code",
      "metadata": {
        "id": "zgID1OTBvr1O",
        "colab_type": "code",
        "colab": {}
      },
      "source": [
        "# Save the checkpoint \n",
        "num_epochs = 30\n",
        "model.class_to_idx = dataloaders['train'].dataset.class_to_idx\n",
        "model.epochs = num_epochs\n",
        "checkpoint = {'input_size': [2, 224, 224],\n",
        "                 'batch_size': dataloaders['train'].batch_size,\n",
        "                  'output_size':2,\n",
        "                  'state_dict': model.state_dict(),\n",
        "                  'data_transforms': data_transforms,\n",
        "                  'optimizer_dict':optimizer.state_dict(),\n",
        "                  'class_to_idx': model.class_to_idx,\n",
        "                  'epoch': model.epochs}\n",
        "torch.save(checkpoint, '/content/drive/My Drive/cs239/resnet-1024-256-2-91accuracy.pth')"
      ],
      "execution_count": 0,
      "outputs": []
    },
    {
      "cell_type": "code",
      "metadata": {
        "id": "irjsFJGzv4m1",
        "colab_type": "code",
        "colab": {}
      },
      "source": [
        "# Write a function that loads a checkpoint and rebuilds the model\n",
        "\n",
        "def load_checkpoint(filepath):\n",
        "    checkpoint = torch.load(filepath)\n",
        "    model = models.resnet152()\n",
        "    \n",
        "    # our input_size matches the in_features of pretrained model\n",
        "    input_size = 2048\n",
        "    output_size = 2\n",
        "    \n",
        "    classifier = nn.Sequential(OrderedDict([\n",
        "                          ('fc1', nn.Linear(2048, 1024)),\n",
        "                          ('relu', nn.ReLU()),\n",
        "                          #('dropout1', nn.Dropout(p=0.2)),\n",
        "                          ('fc2', nn.Linear(1024, 2)),\n",
        "                          ('output', nn.LogSoftmax(dim=1))\n",
        "                          ]))\n",
        "\n",
        "\n",
        "    # Replacing the pretrained model classifier with our classifier\n",
        "    model.fc = classifier\n",
        "    \n",
        "    \n",
        "    model.load_state_dict(checkpoint['state_dict'])\n",
        "    \n",
        "    return model, checkpoint['class_to_idx']\n",
        "\n",
        "# Get index to class mapping\n",
        "loaded_model, class_to_idx = load_checkpoint('90_checkpoint.pth')\n",
        "idx_to_class = { v : k for k,v in class_to_idx.items()}"
      ],
      "execution_count": 0,
      "outputs": []
    },
    {
      "cell_type": "code",
      "metadata": {
        "id": "ST1yKy7Kv9jH",
        "colab_type": "code",
        "colab": {}
      },
      "source": [
        "\n",
        "def visualize_model(model, num_images=6):\n",
        "    was_training = model.training\n",
        "    model.eval()\n",
        "    images_so_far = 0\n",
        "    fig = plt.figure()\n",
        "\n",
        "    with torch.no_grad():\n",
        "        for i, (inputs, labels) in enumerate(dataloaders['test']):\n",
        "            inputs = inputs.to(device)\n",
        "            labels = labels.to(device)\n",
        "\n",
        "            outputs = model(inputs)\n",
        "            _, preds = torch.max(outputs, 1)\n",
        "\n",
        "            for j in range(inputs.size()[0]):\n",
        "                images_so_far += 1\n",
        "                ax = plt.subplot(num_images//2, 2, images_so_far)\n",
        "                ax.axis('off')\n",
        "                ax.set_title('predicted: {}'.format(class_names[preds[j]]))\n",
        "                imshow(inputs.cpu().data[j])\n",
        "\n",
        "                if images_so_far == num_images:\n",
        "                    model.train(mode=was_training)\n",
        "                    return\n",
        "        model.train(mode=was_training)"
      ],
      "execution_count": 0,
      "outputs": []
    },
    {
      "cell_type": "code",
      "metadata": {
        "id": "cD4d0Za_wA1X",
        "colab_type": "code",
        "colab": {}
      },
      "source": [
        "visualize_model(model_ft)"
      ],
      "execution_count": 0,
      "outputs": []
    },
    {
      "cell_type": "code",
      "metadata": {
        "id": "EOuNYVUvuK5x",
        "colab_type": "code",
        "outputId": "c53f3a03-f1e4-4cda-fef6-60e7e3d6a32f",
        "colab": {
          "base_uri": "https://localhost:8080/",
          "height": 282
        }
      },
      "source": [
        "plt.plot(train_losses, label='Training Loss')\n",
        "plt.plot(test_losses, label='Validation Loss')\n",
        "plt.legend(frameon=False)"
      ],
      "execution_count": 0,
      "outputs": [
        {
          "output_type": "execute_result",
          "data": {
            "text/plain": [
              "<matplotlib.legend.Legend at 0x7f9896b067b8>"
            ]
          },
          "metadata": {
            "tags": []
          },
          "execution_count": 205
        },
        {
          "output_type": "display_data",
          "data": {
            "image/png": "[encoded data removed]",
            "text/plain": [
              "<Figure size 432x288 with 1 Axes>"
            ]
          },
          "metadata": {
            "tags": []
          }
        }
      ]
    }
  ]
}